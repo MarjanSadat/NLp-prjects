{
 "cells": [
  {
   "cell_type": "code",
   "execution_count": 1,
   "id": "e868d362-4f17-4332-9af8-33eeab2fbffb",
   "metadata": {},
   "outputs": [],
   "source": [
    "import warnings\n",
    "warnings.filterwarnings(action='ignore')"
   ]
  },
  {
   "cell_type": "code",
   "execution_count": 2,
   "id": "4d39511b-858b-4505-b8d2-9bf5bdb08338",
   "metadata": {},
   "outputs": [],
   "source": [
    "import re"
   ]
  },
  {
   "cell_type": "code",
   "execution_count": 3,
   "id": "9ac32207-2b63-436c-b93d-c6ea389770e4",
   "metadata": {},
   "outputs": [],
   "source": [
    "chat1 = '123456789, abc@xyz.com'\n",
    "chat2 = '(123)-567-8912, abbjdjd@jjdnjnfd.com'"
   ]
  },
  {
   "cell_type": "code",
   "execution_count": 5,
   "id": "bf3408eb-fead-4083-a31d-71b1db7d9532",
   "metadata": {},
   "outputs": [
    {
     "data": {
      "text/plain": [
       "['abbjdjd@jjdnjnfd.com']"
      ]
     },
     "execution_count": 5,
     "metadata": {},
     "output_type": "execute_result"
    }
   ],
   "source": [
    "pattern = '[a-zA-Z0-9]*@[a-zA-Z0-9]*\\.[a-zA-Z]*'\n",
    "\n",
    "matches = re.findall(pattern, chat2)\n",
    "matches"
   ]
  },
  {
   "cell_type": "code",
   "execution_count": 7,
   "id": "14e1f960-8643-4913-9538-256d022bc1fe",
   "metadata": {},
   "outputs": [],
   "source": [
    "chat3 = 'i am not ok with my order-412889912'\n",
    "chat4 = 'i am not ok with my order-#-412889912'"
   ]
  },
  {
   "cell_type": "code",
   "execution_count": 8,
   "id": "fdb9ec7e-0545-4dd6-8a1e-e795f689c180",
   "metadata": {},
   "outputs": [
    {
     "data": {
      "text/plain": [
       "['412889912']"
      ]
     },
     "execution_count": 8,
     "metadata": {},
     "output_type": "execute_result"
    }
   ],
   "source": [
    "pattern = \"order[^\\d]*(\\d*)\"\n",
    "matches = re.findall(pattern, chat3)\n",
    "matches"
   ]
  },
  {
   "cell_type": "code",
   "execution_count": 10,
   "id": "4a85c7a7-0ec0-4d98-8653-48569651fec7",
   "metadata": {},
   "outputs": [],
   "source": [
    "text = '''Musk was the largest donor in the 2024 U.S. presidential election, \n",
    "and is a supporter of global far-right figures, causes, and political parties.\n",
    "In early 2025, he served as senior advisor to United States president Donald \n",
    "Trump and as the de facto head of DOGE. After a public feud with Trump, Musk\n",
    "left the Trump administration and announced he was creating his own political\n",
    "party, the America Party.Musk's political activities, views, and statements\n",
    "have made him a polarizing figure, especially following the COVID-19 pandemic.\n",
    "He has been criticized for making unscientific and misleading statements, \n",
    "including COVID-19 misinformation and promoting conspiracy theories,\n",
    "and affirming antisemitic, racist, and transphobic comments.\n",
    "His acquisition of Twitter was controversial due to a subsequent increase in\n",
    "hate speech and the spread of misinformation on the service. His role\n",
    "in the second Trump administration attracted public backlash, \n",
    "particularly in response to DOGE. '''"
   ]
  },
  {
   "cell_type": "code",
   "execution_count": null,
   "id": "2e1ad8bb-91f4-4bbc-9a95-dd16d633f328",
   "metadata": {},
   "outputs": [],
   "source": [
    "import nl"
   ]
  },
  {
   "cell_type": "code",
   "execution_count": null,
   "id": "11589f6a-bf02-496a-b8e0-2d76d72d80b2",
   "metadata": {},
   "outputs": [],
   "source": []
  }
 ],
 "metadata": {
  "kernelspec": {
   "display_name": "Python 3 (ipykernel)",
   "language": "python",
   "name": "python3"
  },
  "language_info": {
   "codemirror_mode": {
    "name": "ipython",
    "version": 3
   },
   "file_extension": ".py",
   "mimetype": "text/x-python",
   "name": "python",
   "nbconvert_exporter": "python",
   "pygments_lexer": "ipython3",
   "version": "3.12.7"
  }
 },
 "nbformat": 4,
 "nbformat_minor": 5
}
